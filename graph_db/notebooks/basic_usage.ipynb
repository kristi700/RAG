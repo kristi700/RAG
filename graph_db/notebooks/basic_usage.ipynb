{
 "cells": [
  {
   "cell_type": "markdown",
   "metadata": {},
   "source": [
    "**Test to see if all network components are working as expected**"
   ]
  },
  {
   "cell_type": "code",
   "execution_count": 1,
   "metadata": {},
   "outputs": [],
   "source": [
    "from nebula3.gclient.net import ConnectionPool\n",
    "from nebula3.Config import Config"
   ]
  },
  {
   "cell_type": "code",
   "execution_count": 2,
   "metadata": {},
   "outputs": [],
   "source": [
    "class NebulaHandler:\n",
    "    def __init__(self, space_name, host='nebula-docker-compose-graphd-1', port=9669, user='root', password='nebula'):\n",
    "        \"\"\"\n",
    "        Initializes the NebulaHandler object and establishes a connection to NebulaGraph.\n",
    "\n",
    "        Args:\n",
    "            space_name (str): The name of the space to initialize and switch to.\n",
    "            host (str): Host address of the NebulaGraph server.\n",
    "            port (int): Port of the NebulaGraph server.\n",
    "            user (str): Username for NebulaGraph.\n",
    "            password (str): Password for NebulaGraph.\n",
    "        \"\"\"\n",
    "        self.space_name = space_name\n",
    "        self.config = Config()\n",
    "        self.connection_pool = ConnectionPool()\n",
    "        if not self.connection_pool.init([(host, port)], self.config):\n",
    "            raise Exception(\"Failed to initialize the connection pool.\")\n",
    "        self.session = self.connection_pool.get_session(user, password)"
   ]
  },
  {
   "cell_type": "code",
   "execution_count": 3,
   "metadata": {},
   "outputs": [],
   "source": [
    "handler = NebulaHandler(space_name='test_space', host='nebula-docker-compose-graphd-1', port=9669, user='root', password='nebula')"
   ]
  },
  {
   "cell_type": "markdown",
   "metadata": {},
   "source": [
    "**https://docs.nebula-graph.io/3.8.0/3.ngql-guide/1.nGQL-overview/1.overview/**"
   ]
  },
  {
   "cell_type": "code",
   "execution_count": 4,
   "metadata": {},
   "outputs": [
    {
     "data": {
      "text/plain": [
       "ResultSet(None)"
      ]
     },
     "execution_count": 4,
     "metadata": {},
     "output_type": "execute_result"
    }
   ],
   "source": [
    "handler.session.execute(f\"\"\"CREATE SPACE {handler.space_name}(partition_num=1, replica_factor=1, vid_type=INT64);\"\"\")\n",
    "handler.session.execute(f\"USE {handler.space_name};\")"
   ]
  },
  {
   "cell_type": "code",
   "execution_count": 5,
   "metadata": {},
   "outputs": [
    {
     "name": "stdout",
     "output_type": "stream",
     "text": [
      "Spaces: [Row(\n",
      "    values=[Value(\n",
      "        sVal=b'test_space')])]\n"
     ]
    }
   ],
   "source": [
    "result = handler.session.execute(\"SHOW SPACES;\")\n",
    "if result.is_succeeded():\n",
    "    print(\"Spaces:\", [row for row in result.rows()])\n",
    "else:\n",
    "    print(\"Error:\", result.error_msg())\n"
   ]
  },
  {
   "cell_type": "code",
   "execution_count": 19,
   "metadata": {},
   "outputs": [
    {
     "data": {
      "text/plain": [
       "ResultSet(None)"
      ]
     },
     "execution_count": 19,
     "metadata": {},
     "output_type": "execute_result"
    }
   ],
   "source": [
    "handler.session.execute(\"\"\"CREATE TAG IF NOT EXISTS Person(name string, age int);\"\"\")\n",
    "handler.session.execute(\"INSERT VERTEX Person(name, age) VALUES 3:('Charlie', 28);\")\n",
    "handler.session.execute(\"INSERT VERTEX Person(name, age) VALUES 4:('Amy', 22);\")\n",
    "handler.session.execute(\"INSERT VERTEX Person(name, age) VALUES 5:('Bob', 35);\")\n",
    "handler.session.execute(\"INSERT VERTEX Person(name, age) VALUES 6:('Alice', 27);\")\n",
    "handler.session.execute(\"INSERT VERTEX Person(name, age) VALUES 7:('David', 30);\")\n",
    "handler.session.execute(\"INSERT VERTEX Person(name, age) VALUES 8:('Eva', 19);\")\n",
    "handler.session.execute(\"INSERT VERTEX Person(name, age) VALUES 9:('Frank', 42);\")"
   ]
  },
  {
   "cell_type": "markdown",
   "metadata": {},
   "source": [
    "**MATCH with id**"
   ]
  },
  {
   "cell_type": "code",
   "execution_count": 20,
   "metadata": {},
   "outputs": [
    {
     "name": "stdout",
     "output_type": "stream",
     "text": [
      "Data inserted successfully: [Row(\n",
      "    values=[Value(\n",
      "        vVal=Vertex(\n",
      "             vid=Value(\n",
      "                 iVal=3),\n",
      "             tags=[Tag(\n",
      "                 name=b'Person',\n",
      "                 props={b'age': Value(\n",
      "                     iVal=28), b'name': Value(\n",
      "                     sVal=b'Charlie')})]))])]\n"
     ]
    }
   ],
   "source": [
    "result = handler.session.execute(\"\"\"MATCH (v:Person) WHERE id(v) == 3 RETURN v;\"\"\")\n",
    "if result.is_succeeded():\n",
    "    print(\"Data inserted successfully:\", result.rows())\n",
    "else:\n",
    "    print(\"Failed to retrieve data:\", result.error_msg())"
   ]
  },
  {
   "cell_type": "markdown",
   "metadata": {},
   "source": [
    "**MATCH property** - this needs creating an index for the property first!"
   ]
  },
  {
   "cell_type": "code",
   "execution_count": 23,
   "metadata": {},
   "outputs": [
    {
     "data": {
      "text/plain": [
       "ResultSet(keys: ['Index Name', 'By Tag', 'Columns'], values: [\"idx_person_name\", \"Person\", [\"name\"]])"
      ]
     },
     "execution_count": 23,
     "metadata": {},
     "output_type": "execute_result"
    }
   ],
   "source": [
    "handler.session.execute(\"\"\"CREATE TAG INDEX idx_person_name ON Person(name(50));\"\"\")\n",
    "handler.session.execute(\"\"\"REBUILD TAG INDEX idx_person_name;\"\"\")\n",
    "handler.session.execute(\"\"\"SHOW TAG INDEXES;\"\"\")"
   ]
  },
  {
   "cell_type": "code",
   "execution_count": 24,
   "metadata": {},
   "outputs": [
    {
     "name": "stdout",
     "output_type": "stream",
     "text": [
      "Retrieved data: [Row(\n",
      "    values=[Value(\n",
      "        vVal=Vertex(\n",
      "             vid=Value(\n",
      "                 iVal=3),\n",
      "             tags=[Tag(\n",
      "                 name=b'Person',\n",
      "                 props={b'age': Value(\n",
      "                     iVal=28), b'name': Value(\n",
      "                     sVal=b'Charlie')})]))])]\n"
     ]
    }
   ],
   "source": [
    "resp = handler.session.execute(\"\"\"MATCH (p:Person { name:'Charlie'})RETURN p;\"\"\")\n",
    "if resp.is_succeeded():\n",
    "    print(\"Retrieved data:\", [row for row in resp.rows()])\n",
    "else:\n",
    "    print(\"Error:\", resp.error_msg())\n"
   ]
  },
  {
   "cell_type": "markdown",
   "metadata": {},
   "source": [
    "Doing the same with WHERE"
   ]
  },
  {
   "cell_type": "code",
   "execution_count": 33,
   "metadata": {},
   "outputs": [
    {
     "name": "stdout",
     "output_type": "stream",
     "text": [
      "Retrieved data: [Row(\n",
      "    values=[Value(\n",
      "        vVal=Vertex(\n",
      "             vid=Value(\n",
      "                 iVal=3),\n",
      "             tags=[Tag(\n",
      "                 name=b'Person',\n",
      "                 props={b'age': Value(\n",
      "                     iVal=28), b'name': Value(\n",
      "                     sVal=b'Charlie')})]))])]\n"
     ]
    }
   ],
   "source": [
    "resp = handler.session.execute(\"\"\"MATCH (p:Person) WHERE p.Person.name == 'Charlie' RETURN p;\"\"\")\n",
    "if resp.is_succeeded():\n",
    "    print(\"Retrieved data:\", [row for row in resp.rows()])\n",
    "else:\n",
    "    print(\"Error:\", resp.error_msg())\n"
   ]
  },
  {
   "cell_type": "markdown",
   "metadata": {},
   "source": [
    "**LOOKUP** with WHERE"
   ]
  },
  {
   "cell_type": "code",
   "execution_count": 30,
   "metadata": {},
   "outputs": [
    {
     "name": "stdout",
     "output_type": "stream",
     "text": [
      "Retrieved data: [Row(\n",
      "    values=[Value(\n",
      "        sVal=b'Frank')]), Row(\n",
      "    values=[Value(\n",
      "        sVal=b'Bob')])]\n"
     ]
    }
   ],
   "source": [
    "resp = handler.session.execute(\"\"\"LOOKUP ON Person WHERE Person.age > 30 YIELD Person.name;\"\"\")\n",
    "if resp.is_succeeded():\n",
    "    print(\"Retrieved data:\", [row for row in resp.rows()])\n",
    "else:\n",
    "    print(\"Error:\", resp.error_msg())\n"
   ]
  }
 ],
 "metadata": {
  "kernelspec": {
   "display_name": "base",
   "language": "python",
   "name": "python3"
  },
  "language_info": {
   "codemirror_mode": {
    "name": "ipython",
    "version": 3
   },
   "file_extension": ".py",
   "mimetype": "text/x-python",
   "name": "python",
   "nbconvert_exporter": "python",
   "pygments_lexer": "ipython3",
   "version": "3.10.13"
  }
 },
 "nbformat": 4,
 "nbformat_minor": 2
}
