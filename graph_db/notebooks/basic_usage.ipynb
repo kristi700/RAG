{
 "cells": [
  {
   "cell_type": "markdown",
   "metadata": {},
   "source": [
    "**Test to see if all network components are working as expected**"
   ]
  },
  {
   "cell_type": "code",
   "execution_count": 1,
   "metadata": {},
   "outputs": [],
   "source": [
    "from nebula3.gclient.net import ConnectionPool\n",
    "from nebula3.Config import Config"
   ]
  },
  {
   "cell_type": "code",
   "execution_count": 8,
   "metadata": {},
   "outputs": [],
   "source": [
    "class NebulaHandler:\n",
    "    def __init__(self, space_name, host='nebula-docker-compose-graphd-1', port=9669, user='root', password='nebula'):\n",
    "        \"\"\"\n",
    "        Initializes the NebulaHandler object and establishes a connection to NebulaGraph.\n",
    "\n",
    "        Args:\n",
    "            space_name (str): The name of the space to initialize and switch to.\n",
    "            host (str): Host address of the NebulaGraph server.\n",
    "            port (int): Port of the NebulaGraph server.\n",
    "            user (str): Username for NebulaGraph.\n",
    "            password (str): Password for NebulaGraph.\n",
    "        \"\"\"\n",
    "        self.space_name = space_name\n",
    "        self.config = Config()\n",
    "        self.connection_pool = ConnectionPool()\n",
    "        if not self.connection_pool.init([(host, port)], self.config):\n",
    "            raise Exception(\"Failed to initialize the connection pool.\")\n",
    "        self.session = self.connection_pool.get_session(user, password)\n",
    "        self.session.execute(f\"USE {self.space_name}\")\n",
    "\n",
    "    def execute_query(self, query):\n",
    "        \"\"\"Executes a NebulaGraph query and returns the result.\"\"\"\n",
    "        try:\n",
    "            result = self.session.execute(query)\n",
    "            if result.error_code() != 0:\n",
    "                raise Exception(f\"Error executing query: {result.error_msg()}\")\n",
    "            return result\n",
    "        except Exception as e:\n",
    "            print(f\"Exception occurred: {e}\")\n",
    "            return None\n",
    "\n",
    "    def show_spaces(self):\n",
    "        \"\"\"Fetches all spaces and returns their names.\"\"\"\n",
    "        query = \"\"\"\n",
    "            SHOW SPACES;\n",
    "        \"\"\"\n",
    "        result = self.execute_query(query)\n",
    "        return result"
   ]
  },
  {
   "cell_type": "code",
   "execution_count": 9,
   "metadata": {},
   "outputs": [],
   "source": [
    "handler = NebulaHandler(space_name='test_space', host='nebula-docker-compose-graphd-1', port=9669, user='root', password='nebula')"
   ]
  },
  {
   "cell_type": "code",
   "execution_count": null,
   "metadata": {},
   "outputs": [],
   "source": []
  }
 ],
 "metadata": {
  "kernelspec": {
   "display_name": "base",
   "language": "python",
   "name": "python3"
  },
  "language_info": {
   "codemirror_mode": {
    "name": "ipython",
    "version": 3
   },
   "file_extension": ".py",
   "mimetype": "text/x-python",
   "name": "python",
   "nbconvert_exporter": "python",
   "pygments_lexer": "ipython3",
   "version": "3.10.13"
  }
 },
 "nbformat": 4,
 "nbformat_minor": 2
}
