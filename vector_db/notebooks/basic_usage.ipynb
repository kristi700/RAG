{
 "cells": [
  {
   "cell_type": "markdown",
   "metadata": {},
   "source": [
    "**Test to see if all network components are working as expected**"
   ]
  },
  {
   "cell_type": "code",
   "execution_count": 1,
   "metadata": {},
   "outputs": [],
   "source": [
    "import os\n",
    "import json\n",
    "import weaviate\n",
    "import requests\n",
    "import weaviate\n",
    "import pandas as pd\n",
    "import weaviate.classes as wvc\n",
    "\n",
    "from tqdm import tqdm"
   ]
  },
  {
   "cell_type": "code",
   "execution_count": 2,
   "metadata": {},
   "outputs": [
    {
     "name": "stdout",
     "output_type": "stream",
     "text": [
      "True\n"
     ]
    }
   ],
   "source": [
    "client = weaviate.connect_to_local(\n",
    "    host='host.docker.internal',\n",
    "    port='8080'\n",
    ")\n",
    "\n",
    "print(client.is_ready())"
   ]
  },
  {
   "cell_type": "markdown",
   "metadata": {},
   "source": [
    "**Checking the metadata to see if all modules are enabled**"
   ]
  },
  {
   "cell_type": "code",
   "execution_count": 3,
   "metadata": {},
   "outputs": [
    {
     "name": "stdout",
     "output_type": "stream",
     "text": [
      "{'grpcMaxMessageSize': 10485760, 'hostname': 'http://[::]:8080', 'modules': {'text2vec-transformers': {'model': {'_name_or_path': './models/model', 'add_cross_attention': False, 'architectures': ['BertModel'], 'attention_probs_dropout_prob': 0.1, 'bad_words_ids': None, 'begin_suppress_tokens': None, 'bos_token_id': None, 'chunk_size_feed_forward': 0, 'classifier_dropout': None, 'cross_attention_hidden_size': None, 'decoder_start_token_id': None, 'diversity_penalty': 0, 'do_sample': False, 'early_stopping': False, 'encoder_no_repeat_ngram_size': 0, 'eos_token_id': None, 'exponential_decay_length_penalty': None, 'finetuning_task': None, 'forced_bos_token_id': None, 'forced_eos_token_id': None, 'gradient_checkpointing': False, 'hidden_act': 'gelu', 'hidden_dropout_prob': 0.1, 'hidden_size': 384, 'id2label': {'0': 'LABEL_0', '1': 'LABEL_1'}, 'initializer_range': 0.02, 'intermediate_size': 1536, 'is_decoder': False, 'is_encoder_decoder': False, 'label2id': {'LABEL_0': 0, 'LABEL_1': 1}, 'layer_norm_eps': 1e-12, 'length_penalty': 1, 'max_length': 20, 'max_position_embeddings': 512, 'min_length': 0, 'model_type': 'bert', 'no_repeat_ngram_size': 0, 'num_attention_heads': 12, 'num_beam_groups': 1, 'num_beams': 1, 'num_hidden_layers': 6, 'num_return_sequences': 1, 'output_attentions': False, 'output_hidden_states': False, 'output_scores': False, 'pad_token_id': 0, 'position_embedding_type': 'absolute', 'prefix': None, 'problem_type': None, 'pruned_heads': {}, 'remove_invalid_values': False, 'repetition_penalty': 1, 'return_dict': True, 'return_dict_in_generate': False, 'sep_token_id': None, 'suppress_tokens': None, 'task_specific_params': None, 'temperature': 1, 'tf_legacy_loss': False, 'tie_encoder_decoder': False, 'tie_word_embeddings': True, 'tokenizer_class': None, 'top_k': 50, 'top_p': 1, 'torch_dtype': 'float32', 'torchscript': False, 'transformers_version': '4.44.2', 'type_vocab_size': 2, 'typical_p': 1, 'use_bfloat16': False, 'use_cache': True, 'vocab_size': 30522}}}, 'version': '1.28.2'}\n"
     ]
    }
   ],
   "source": [
    "meta_info = client.get_meta()\n",
    "print(meta_info)"
   ]
  },
  {
   "cell_type": "markdown",
   "metadata": {},
   "source": [
    "**Now we are gonna create our test collection**"
   ]
  },
  {
   "cell_type": "code",
   "execution_count": 6,
   "metadata": {},
   "outputs": [
    {
     "name": "stdout",
     "output_type": "stream",
     "text": [
      "_CollectionConfig(name='Questions', description=None, generative_config=None, inverted_index_config=_InvertedIndexConfig(bm25=_BM25Config(b=0.75, k1=1.2), cleanup_interval_seconds=60, index_null_state=False, index_property_length=False, index_timestamps=False, stopwords=_StopwordsConfig(preset=<StopwordsPreset.EN: 'en'>, additions=None, removals=None)), multi_tenancy_config=_MultiTenancyConfig(enabled=False, auto_tenant_creation=False, auto_tenant_activation=False), properties=[_Property(name='question', description=None, data_type=<DataType.TEXT: 'text'>, index_filterable=True, index_range_filters=False, index_searchable=True, nested_properties=None, tokenization=<Tokenization.WORD: 'word'>, vectorizer_config=None, vectorizer='none'), _Property(name='answer', description=None, data_type=<DataType.TEXT: 'text'>, index_filterable=True, index_range_filters=False, index_searchable=True, nested_properties=None, tokenization=<Tokenization.WORD: 'word'>, vectorizer_config=None, vectorizer='none'), _Property(name='category', description=None, data_type=<DataType.TEXT: 'text'>, index_filterable=True, index_range_filters=False, index_searchable=True, nested_properties=None, tokenization=<Tokenization.WORD: 'word'>, vectorizer_config=None, vectorizer='none')], references=[], replication_config=_ReplicationConfig(factor=1, async_enabled=False, deletion_strategy=<ReplicationDeletionStrategy.NO_AUTOMATED_RESOLUTION: 'NoAutomatedResolution'>), reranker_config=None, sharding_config=_ShardingConfig(virtual_per_physical=128, desired_count=1, actual_count=1, desired_virtual_count=128, actual_virtual_count=128, key='_id', strategy='hash', function='murmur3'), vector_index_config=None, vector_index_type=None, vectorizer_config=None, vectorizer=None, vector_config={'category_vector': _NamedVectorConfig(vectorizer=_NamedVectorizerConfig(vectorizer=<Vectorizers.TEXT2VEC_TRANSFORMERS: 'text2vec-transformers'>, model={'poolingStrategy': 'masked_mean', 'vectorizeClassName': True}, source_properties=['category']), vector_index_config=_VectorIndexConfigHNSW(quantizer=None, cleanup_interval_seconds=300, distance_metric=<VectorDistances.COSINE: 'cosine'>, dynamic_ef_min=100, dynamic_ef_max=500, dynamic_ef_factor=8, ef=-1, ef_construction=128, filter_strategy=<VectorFilterStrategy.SWEEPING: 'sweeping'>, flat_search_cutoff=40000, max_connections=32, skip=False, vector_cache_max_objects=1000000000000))})\n"
     ]
    }
   ],
   "source": [
    "questions = client.collections.create(\n",
    "    name=\"Questions\",\n",
    "    vectorizer_config=[wvc.config.Configure.NamedVectors.text2vec_transformers(name=\"category_vector\",source_properties=[\"category\"])],\n",
    "    properties=[\n",
    "        wvc.config.Property(\n",
    "            name=\"question\",\n",
    "            data_type=wvc.config.DataType.TEXT,\n",
    "        ),\n",
    "        wvc.config.Property(\n",
    "            name=\"answer\",\n",
    "            data_type=wvc.config.DataType.TEXT,\n",
    "        ),\n",
    "        wvc.config.Property(\n",
    "            name=\"category\",\n",
    "            data_type=wvc.config.DataType.TEXT,\n",
    "        )\n",
    "    ]\n",
    ")\n",
    "\n",
    "print(questions.config.get(simple=False))"
   ]
  },
  {
   "cell_type": "markdown",
   "metadata": {},
   "source": [
    "**Time to import some test data**"
   ]
  },
  {
   "cell_type": "code",
   "execution_count": 7,
   "metadata": {},
   "outputs": [],
   "source": [
    "resp = requests.get(\n",
    "    \"https://raw.githubusercontent.com/weaviate-tutorials/quickstart/main/data/jeopardy_tiny.json\"\n",
    ")\n",
    "df = pd.DataFrame(resp.json())"
   ]
  },
  {
   "cell_type": "code",
   "execution_count": 8,
   "metadata": {},
   "outputs": [
    {
     "data": {
      "text/html": [
       "<div>\n",
       "<style scoped>\n",
       "    .dataframe tbody tr th:only-of-type {\n",
       "        vertical-align: middle;\n",
       "    }\n",
       "\n",
       "    .dataframe tbody tr th {\n",
       "        vertical-align: top;\n",
       "    }\n",
       "\n",
       "    .dataframe thead th {\n",
       "        text-align: right;\n",
       "    }\n",
       "</style>\n",
       "<table border=\"1\" class=\"dataframe\">\n",
       "  <thead>\n",
       "    <tr style=\"text-align: right;\">\n",
       "      <th></th>\n",
       "      <th>Category</th>\n",
       "      <th>Question</th>\n",
       "      <th>Answer</th>\n",
       "    </tr>\n",
       "  </thead>\n",
       "  <tbody>\n",
       "    <tr>\n",
       "      <th>0</th>\n",
       "      <td>SCIENCE</td>\n",
       "      <td>This organ removes excess glucose from the blo...</td>\n",
       "      <td>Liver</td>\n",
       "    </tr>\n",
       "    <tr>\n",
       "      <th>1</th>\n",
       "      <td>ANIMALS</td>\n",
       "      <td>It's the only living mammal in the order Probo...</td>\n",
       "      <td>Elephant</td>\n",
       "    </tr>\n",
       "    <tr>\n",
       "      <th>2</th>\n",
       "      <td>ANIMALS</td>\n",
       "      <td>The gavial looks very much like a crocodile ex...</td>\n",
       "      <td>the nose or snout</td>\n",
       "    </tr>\n",
       "    <tr>\n",
       "      <th>3</th>\n",
       "      <td>ANIMALS</td>\n",
       "      <td>Weighing around a ton, the eland is the larges...</td>\n",
       "      <td>Antelope</td>\n",
       "    </tr>\n",
       "    <tr>\n",
       "      <th>4</th>\n",
       "      <td>ANIMALS</td>\n",
       "      <td>Heaviest of all poisonous snakes is this North...</td>\n",
       "      <td>the diamondback rattler</td>\n",
       "    </tr>\n",
       "  </tbody>\n",
       "</table>\n",
       "</div>"
      ],
      "text/plain": [
       "  Category                                           Question  \\\n",
       "0  SCIENCE  This organ removes excess glucose from the blo...   \n",
       "1  ANIMALS  It's the only living mammal in the order Probo...   \n",
       "2  ANIMALS  The gavial looks very much like a crocodile ex...   \n",
       "3  ANIMALS  Weighing around a ton, the eland is the larges...   \n",
       "4  ANIMALS  Heaviest of all poisonous snakes is this North...   \n",
       "\n",
       "                    Answer  \n",
       "0                    Liver  \n",
       "1                 Elephant  \n",
       "2        the nose or snout  \n",
       "3                 Antelope  \n",
       "4  the diamondback rattler  "
      ]
     },
     "execution_count": 8,
     "metadata": {},
     "output_type": "execute_result"
    }
   ],
   "source": [
    "df.head()"
   ]
  },
  {
   "cell_type": "markdown",
   "metadata": {},
   "source": [
    "**https://weaviate.io/developers/academy/py/starter_text_data/text_collections/import_data**"
   ]
  },
  {
   "cell_type": "code",
   "execution_count": 9,
   "metadata": {},
   "outputs": [
    {
     "name": "stderr",
     "output_type": "stream",
     "text": [
      "10it [00:00, 11422.40it/s]\n"
     ]
    }
   ],
   "source": [
    "questions = client.collections.get(\"Questions\")\n",
    "\n",
    "with questions.batch.dynamic() as batch:\n",
    "    for i, question in tqdm(df.iterrows()):\n",
    "        question_obj={\n",
    "            \"question\": question[\"Question\"],\n",
    "            \"answer\": question[\"Answer\"],\n",
    "            \"category\": question[\"Category\"]\n",
    "        }\n",
    "        batch.add_object(properties = question_obj)\n",
    "\n",
    "if len(questions.batch.failed_objects) > 0:\n",
    "    print(f\"Failed to import {len(questions.batch.failed_objects)} objects\")"
   ]
  },
  {
   "cell_type": "markdown",
   "metadata": {},
   "source": [
    "**Let's do some searches**"
   ]
  },
  {
   "cell_type": "markdown",
   "metadata": {},
   "source": [
    "**https://weaviate.io/developers/academy/py/starter_text_data/text_searches/semantic**"
   ]
  },
  {
   "cell_type": "code",
   "execution_count": 10,
   "metadata": {},
   "outputs": [
    {
     "name": "stdout",
     "output_type": "stream",
     "text": [
      "ANIMALS The gavial looks very much like a crocodile except for this bodily feature the nose or snout\n",
      "Distance to query: 0.465\n",
      "\n",
      "ANIMALS It's the only living mammal in the order Proboseidea Elephant\n",
      "Distance to query: 0.465\n",
      "\n",
      "ANIMALS Weighing around a ton, the eland is the largest species of this animal in Africa Antelope\n",
      "Distance to query: 0.465\n",
      "\n",
      "ANIMALS Heaviest of all poisonous snakes is this North American rattlesnake the diamondback rattler\n",
      "Distance to query: 0.465\n",
      "\n",
      "SCIENCE A metal that is ductile can be pulled into this while cold & under pressure wire\n",
      "Distance to query: 0.889\n",
      "\n"
     ]
    }
   ],
   "source": [
    "response = questions.query.near_text(\n",
    "    query=\"heavy animal\", limit=5, return_metadata=wvc.query.MetadataQuery(distance=True)\n",
    ")\n",
    "\n",
    "for o in response.objects:\n",
    "    print(o.properties[\"category\"], o.properties[\"question\"], o.properties[\"answer\"])\n",
    "    print(f\"Distance to query: {o.metadata.distance:.3f}\\n\")"
   ]
  },
  {
   "cell_type": "markdown",
   "metadata": {},
   "source": [
    "**https://weaviate.io/developers/academy/py/starter_text_data/text_searches/keyword_hybrid**"
   ]
  },
  {
   "cell_type": "code",
   "execution_count": 11,
   "metadata": {},
   "outputs": [
    {
     "name": "stdout",
     "output_type": "stream",
     "text": [
      "ANIMALS Weighing around a ton, the eland is the largest species of this animal in Africa Antelope\n",
      "BM25 score: 0.544\n",
      "\n"
     ]
    }
   ],
   "source": [
    "response = questions.query.bm25(\n",
    "    query=\"heavy animal\", limit=5, return_metadata=wvc.query.MetadataQuery(score=True)\n",
    ")\n",
    "\n",
    "for o in response.objects:\n",
    "    print(o.properties[\"category\"], o.properties[\"question\"], o.properties[\"answer\"])\n",
    "    print(f\"BM25 score: {o.metadata.score:.3f}\\n\")"
   ]
  },
  {
   "cell_type": "markdown",
   "metadata": {},
   "source": [
    "**https://weaviate.io/developers/academy/py/starter_text_data/text_searches/filters** <br />\n",
    "**https://weaviate.io/developers/weaviate/search/filters**"
   ]
  },
  {
   "cell_type": "code",
   "execution_count": 13,
   "metadata": {},
   "outputs": [
    {
     "name": "stdout",
     "output_type": "stream",
     "text": [
      "ANIMALS Heaviest of all poisonous snakes is this North American rattlesnake the diamondback rattler\n",
      "Distance to query: 0.465\n",
      "\n",
      "ANIMALS Weighing around a ton, the eland is the largest species of this animal in Africa Antelope\n",
      "Distance to query: 0.465\n",
      "\n",
      "ANIMALS The gavial looks very much like a crocodile except for this bodily feature the nose or snout\n",
      "Distance to query: 0.465\n",
      "\n",
      "ANIMALS It's the only living mammal in the order Proboseidea Elephant\n",
      "Distance to query: 0.465\n",
      "\n"
     ]
    }
   ],
   "source": [
    "response = questions.query.near_text(\n",
    "    query=\"heavy animal\", limit=5, return_metadata=wvc.query.MetadataQuery(distance=True), filters = wvc.query.Filter.by_property(\"category\").equal(\"Animals\")\n",
    ")\n",
    "\n",
    "for o in response.objects:\n",
    "    print(o.properties[\"category\"], o.properties[\"question\"], o.properties[\"answer\"])\n",
    "    print(f\"Distance to query: {o.metadata.distance:.3f}\\n\")"
   ]
  },
  {
   "cell_type": "markdown",
   "metadata": {},
   "source": [
    "**And finally we are gonna delete this collection**"
   ]
  },
  {
   "cell_type": "code",
   "execution_count": 14,
   "metadata": {},
   "outputs": [],
   "source": [
    "client.collections.delete(\"Questions\")"
   ]
  }
 ],
 "metadata": {
  "kernelspec": {
   "display_name": "base",
   "language": "python",
   "name": "python3"
  },
  "language_info": {
   "codemirror_mode": {
    "name": "ipython",
    "version": 3
   },
   "file_extension": ".py",
   "mimetype": "text/x-python",
   "name": "python",
   "nbconvert_exporter": "python",
   "pygments_lexer": "ipython3",
   "version": "3.10.13"
  }
 },
 "nbformat": 4,
 "nbformat_minor": 2
}
